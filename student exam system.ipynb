{
 "cells": [
  {
   "cell_type": "markdown",
   "id": "18c8aead-48a0-49cf-9b91-85db5cc5c043",
   "metadata": {},
   "source": [
    "**ÖDEV**"
   ]
  },
  {
   "cell_type": "code",
   "execution_count": 3,
   "id": "29edfa7d-b4db-455a-b8ee-b0c2aecfb93b",
   "metadata": {},
   "outputs": [
    {
     "data": {
      "text/plain": [
       "7"
      ]
     },
     "execution_count": 3,
     "metadata": {},
     "output_type": "execute_result"
    }
   ],
   "source": [
    "rakamlar=[0,1,2,3,4,5,6,7]\n",
    "rakamlar[-1]"
   ]
  },
  {
   "cell_type": "code",
   "execution_count": 4,
   "id": "5ad7b8f7-aacc-432b-9118-f727ddf39560",
   "metadata": {},
   "outputs": [
    {
     "data": {
      "text/plain": [
       "[2, 3, 4, 5, 6]"
      ]
     },
     "execution_count": 4,
     "metadata": {},
     "output_type": "execute_result"
    }
   ],
   "source": [
    "rakamlar[2:-1]"
   ]
  },
  {
   "cell_type": "code",
   "execution_count": 5,
   "id": "0101b1fc-b92a-4d6e-b33f-3879632d142b",
   "metadata": {},
   "outputs": [
    {
     "data": {
      "text/plain": [
       "[0, 1, 2, 3, 4, 8, 6, 7]"
      ]
     },
     "execution_count": 5,
     "metadata": {},
     "output_type": "execute_result"
    }
   ],
   "source": [
    "rakamlar[5]=8\n",
    "rakamlar"
   ]
  },
  {
   "cell_type": "code",
   "execution_count": 6,
   "id": "be26fb03-b529-4a4c-bdb0-346a09d7d39f",
   "metadata": {},
   "outputs": [
    {
     "data": {
      "text/plain": [
       "[0, 1, 2, 3, 4, 6, 7, 8]"
      ]
     },
     "execution_count": 6,
     "metadata": {},
     "output_type": "execute_result"
    }
   ],
   "source": [
    "rakamlar.sort()\n",
    "rakamlar"
   ]
  },
  {
   "cell_type": "code",
   "execution_count": 7,
   "id": "99dbdbf1-7b16-4701-b9ad-ac2e8951c300",
   "metadata": {},
   "outputs": [
    {
     "data": {
      "text/plain": [
       "[8, 7, 6, 4, 3, 2, 1, 0]"
      ]
     },
     "execution_count": 7,
     "metadata": {},
     "output_type": "execute_result"
    }
   ],
   "source": [
    "rakamlar.sort(reverse=True)\n",
    "rakamlar"
   ]
  },
  {
   "cell_type": "code",
   "execution_count": 8,
   "id": "64796c7e-0f73-4897-b5f1-cf8baa6f095f",
   "metadata": {},
   "outputs": [
    {
     "data": {
      "text/plain": [
       "False"
      ]
     },
     "execution_count": 8,
     "metadata": {},
     "output_type": "execute_result"
    }
   ],
   "source": [
    "9 in rakamlar"
   ]
  },
  {
   "cell_type": "code",
   "execution_count": 9,
   "id": "161e2d24-b141-4d43-945a-3dce0e832f75",
   "metadata": {},
   "outputs": [
    {
     "name": "stdout",
     "output_type": "stream",
     "text": [
      "en küçük: 0 en büyük: 8\n"
     ]
    }
   ],
   "source": [
    "rakamlar.sort()\n",
    "print(\"en küçük:\", rakamlar[0] , \"en büyük:\" , rakamlar[-1])"
   ]
  },
  {
   "cell_type": "code",
   "execution_count": 10,
   "id": "af2725d4-60bc-4850-a2c1-81b02676a59c",
   "metadata": {},
   "outputs": [
    {
     "data": {
      "text/plain": [
       "[0, 2, 3, 4, 6, 7, 8]"
      ]
     },
     "execution_count": 10,
     "metadata": {},
     "output_type": "execute_result"
    }
   ],
   "source": [
    "rakamlar.remove(1)\n",
    "rakamlar"
   ]
  },
  {
   "cell_type": "code",
   "execution_count": 11,
   "id": "ab28cdd2-f7f6-4ee1-9c0e-234254e420ff",
   "metadata": {},
   "outputs": [
    {
     "name": "stdin",
     "output_type": "stream",
     "text": [
      "değiştrimek istediğiniz indeks: 4\n",
      "indeksin değeri: 5\n"
     ]
    },
    {
     "data": {
      "text/plain": [
       "[0, 2, 3, 5, 6, 7, 8]"
      ]
     },
     "execution_count": 11,
     "metadata": {},
     "output_type": "execute_result"
    }
   ],
   "source": [
    "a=int(input(\"değiştrimek istediğiniz indeks:\"))\n",
    "b=int(input(\"indeksin değeri:\"))\n",
    "rakamlar.remove(a)\n",
    "rakamlar.insert(3,b)\n",
    "rakamlar"
   ]
  },
  {
   "cell_type": "markdown",
   "id": "0000f77e-5d74-4af9-b89d-e4042b7fe84b",
   "metadata": {},
   "source": [
    "## DİCTİONARY"
   ]
  },
  {
   "cell_type": "code",
   "execution_count": 16,
   "id": "0a9e64e5-898e-4af7-bef1-56de421000e9",
   "metadata": {},
   "outputs": [
    {
     "data": {
      "text/plain": [
       "{}"
      ]
     },
     "execution_count": 16,
     "metadata": {},
     "output_type": "execute_result"
    }
   ],
   "source": [
    "elemanlar={}\n",
    "elemanlar"
   ]
  },
  {
   "cell_type": "code",
   "execution_count": 25,
   "id": "6e37feb0-b148-4800-a07d-5f02602d5b4b",
   "metadata": {},
   "outputs": [
    {
     "name": "stdin",
     "output_type": "stream",
     "text": [
      "isminizi girin: hande\n"
     ]
    }
   ],
   "source": [
    "isim =input(\"isminizi girin:\")\n"
   ]
  },
  {
   "cell_type": "code",
   "execution_count": 28,
   "id": "081969c2-41c3-45dd-80aa-0d31bea031b6",
   "metadata": {},
   "outputs": [
    {
     "name": "stdin",
     "output_type": "stream",
     "text": [
      "yasınızı girin: 32\n"
     ]
    }
   ],
   "source": [
    "dogum=int(input(\"yasınızı girin:\"))"
   ]
  },
  {
   "cell_type": "code",
   "execution_count": 29,
   "id": "031297df-e4ce-4d85-b6a8-5194d298151d",
   "metadata": {},
   "outputs": [
    {
     "name": "stdin",
     "output_type": "stream",
     "text": [
      "mesleğinizi girin: doktor\n"
     ]
    }
   ],
   "source": [
    "mes=input(\"mesleğinizi girin:\")"
   ]
  },
  {
   "cell_type": "code",
   "execution_count": 30,
   "id": "8ecae631-7b8d-4510-b735-c6014029efbc",
   "metadata": {},
   "outputs": [],
   "source": [
    "elemanlar[\"ad\"]= isim"
   ]
  },
  {
   "cell_type": "code",
   "execution_count": 31,
   "id": "0aa10681-50ae-4580-a46e-9f3c27225a77",
   "metadata": {},
   "outputs": [],
   "source": [
    "elemanlar[\"yas\"]= dogum"
   ]
  },
  {
   "cell_type": "code",
   "execution_count": 32,
   "id": "91499716-aa36-43bd-8998-3dbfb6682142",
   "metadata": {},
   "outputs": [
    {
     "data": {
      "text/plain": [
       "{'ad': 'hande', 'yas': 32, 'meslek': 'doktor'}"
      ]
     },
     "execution_count": 32,
     "metadata": {},
     "output_type": "execute_result"
    }
   ],
   "source": [
    "elemanlar[\"meslek\"]= mes\n",
    "elemanlar"
   ]
  },
  {
   "cell_type": "code",
   "execution_count": 33,
   "id": "448253f4-c7e9-4c51-8c7e-cb1eccf67245",
   "metadata": {},
   "outputs": [
    {
     "data": {
      "text/plain": [
       "{'ad': 'hande', 'yas': 32, 'meslek': 'doktor', 'boy': 172, 'kilo': 58}"
      ]
     },
     "execution_count": 33,
     "metadata": {},
     "output_type": "execute_result"
    }
   ],
   "source": [
    "elemanlar.update({\"boy\": 172,\"kilo\" :58})\n",
    "elemanlar"
   ]
  },
  {
   "cell_type": "code",
   "execution_count": 34,
   "id": "fd4382d8-afc8-4b3a-8693-556dc0cd8d8f",
   "metadata": {},
   "outputs": [
    {
     "data": {
      "text/plain": [
       "{'ad': 'hande', 'yas': 33, 'meslek': 'doktor', 'boy': 172, 'kilo': 58}"
      ]
     },
     "execution_count": 34,
     "metadata": {},
     "output_type": "execute_result"
    }
   ],
   "source": [
    "elemanlar[\"yas\"] = 33\n",
    "elemanlar"
   ]
  },
  {
   "cell_type": "code",
   "execution_count": 36,
   "id": "3ced311a-beb0-420a-9498-27d56971aa73",
   "metadata": {},
   "outputs": [
    {
     "data": {
      "text/plain": [
       "True"
      ]
     },
     "execution_count": 36,
     "metadata": {},
     "output_type": "execute_result"
    }
   ],
   "source": [
    "33 in elemanlar.values()"
   ]
  },
  {
   "cell_type": "code",
   "execution_count": 38,
   "id": "5d513fec-e7a4-40bd-86f8-fa6c517b9c38",
   "metadata": {},
   "outputs": [
    {
     "data": {
      "text/plain": [
       "True"
      ]
     },
     "execution_count": 38,
     "metadata": {},
     "output_type": "execute_result"
    }
   ],
   "source": [
    "\"ad\" in elemanlar.keys()"
   ]
  },
  {
   "cell_type": "markdown",
   "id": "b393f8ac-f623-41c5-bf20-e99fac0f78ca",
   "metadata": {},
   "source": [
    "## SET"
   ]
  },
  {
   "cell_type": "code",
   "execution_count": 2,
   "id": "ff689216-1a47-4711-bb53-33546b19d13f",
   "metadata": {},
   "outputs": [
    {
     "name": "stdout",
     "output_type": "stream",
     "text": [
      "{'armut', 'elma', 'muz'}\n"
     ]
    }
   ],
   "source": [
    "eleman1= {\"elma\",\"muz\",\"armut\"}\n",
    "print(eleman1)"
   ]
  },
  {
   "cell_type": "code",
   "execution_count": 3,
   "id": "e2ad4e7a-1317-40ec-83eb-d097a410f362",
   "metadata": {},
   "outputs": [
    {
     "name": "stdout",
     "output_type": "stream",
     "text": [
      "{'kiraz', 'çilek', 'elma'}\n"
     ]
    }
   ],
   "source": [
    "eleman2= {\"elma\",\"çilek\",\"kiraz\"}\n",
    "print(eleman2)"
   ]
  },
  {
   "cell_type": "code",
   "execution_count": 4,
   "id": "e49c6d00-7c02-4b00-a28e-05753df2ab8b",
   "metadata": {},
   "outputs": [],
   "source": [
    "eleman1.update(eleman2)"
   ]
  },
  {
   "cell_type": "code",
   "execution_count": 5,
   "id": "6dbaf3b1-006a-4d11-b73f-73bfdb516e83",
   "metadata": {},
   "outputs": [
    {
     "data": {
      "text/plain": [
       "{'armut', 'elma', 'kiraz', 'muz', 'çilek'}"
      ]
     },
     "execution_count": 5,
     "metadata": {},
     "output_type": "execute_result"
    }
   ],
   "source": [
    "eleman1"
   ]
  },
  {
   "cell_type": "code",
   "execution_count": 6,
   "id": "0cc21b36-6f85-402a-bfaa-78dc27873a8b",
   "metadata": {},
   "outputs": [
    {
     "name": "stdout",
     "output_type": "stream",
     "text": [
      "{'armut', 'muz'}\n"
     ]
    }
   ],
   "source": [
    "print(eleman1-eleman2)"
   ]
  },
  {
   "cell_type": "code",
   "execution_count": 7,
   "id": "a6182cd6-fe50-45e5-9199-7e36961cf9d7",
   "metadata": {},
   "outputs": [
    {
     "name": "stdout",
     "output_type": "stream",
     "text": [
      "{'kiraz', 'çilek', 'elma'}\n"
     ]
    }
   ],
   "source": [
    "print(eleman1 & eleman2)"
   ]
  },
  {
   "cell_type": "code",
   "execution_count": 8,
   "id": "62f05593-b5ab-4d65-8de0-2a187578637b",
   "metadata": {},
   "outputs": [
    {
     "data": {
      "text/plain": [
       "{'armut', 'elma', 'kiraz', 'muz', 'çilek'}"
      ]
     },
     "execution_count": 8,
     "metadata": {},
     "output_type": "execute_result"
    }
   ],
   "source": [
    "eleman1"
   ]
  },
  {
   "cell_type": "code",
   "execution_count": 9,
   "id": "7630305c-ee64-4c15-8823-437a4ebaa2c6",
   "metadata": {},
   "outputs": [
    {
     "data": {
      "text/plain": [
       "{'elma', 'kiraz', 'çilek'}"
      ]
     },
     "execution_count": 9,
     "metadata": {},
     "output_type": "execute_result"
    }
   ],
   "source": [
    "eleman2"
   ]
  },
  {
   "cell_type": "code",
   "execution_count": 10,
   "id": "0efcfbf6-0c46-4af5-9109-78a6b670c323",
   "metadata": {},
   "outputs": [
    {
     "name": "stdout",
     "output_type": "stream",
     "text": [
      "True\n"
     ]
    }
   ],
   "source": [
    "print(eleman2 <= eleman1)"
   ]
  },
  {
   "cell_type": "code",
   "execution_count": 11,
   "id": "b083b68f-5bd2-4694-9cb7-0c8105c43361",
   "metadata": {},
   "outputs": [],
   "source": [
    "list=[1,2,3,4]"
   ]
  },
  {
   "cell_type": "code",
   "execution_count": 14,
   "id": "1577c046-ef04-4162-83f7-06b36cf17cae",
   "metadata": {},
   "outputs": [],
   "source": [
    "denemeset = set(list)"
   ]
  },
  {
   "cell_type": "code",
   "execution_count": 16,
   "id": "f2191cf9-5ac4-466d-b9ea-5382d733a1dd",
   "metadata": {},
   "outputs": [
    {
     "data": {
      "text/plain": [
       "{1, 2, 3, 4}"
      ]
     },
     "execution_count": 16,
     "metadata": {},
     "output_type": "execute_result"
    }
   ],
   "source": [
    "denemeset"
   ]
  },
  {
   "cell_type": "code",
   "execution_count": 17,
   "id": "60970054-3126-4e3a-9cfe-358acb3655de",
   "metadata": {},
   "outputs": [],
   "source": [
    "denemeset.remove(3)"
   ]
  },
  {
   "cell_type": "code",
   "execution_count": 18,
   "id": "5e246946-c1b1-4391-9cf8-97d51d03c5e8",
   "metadata": {},
   "outputs": [
    {
     "data": {
      "text/plain": [
       "{1, 2, 4}"
      ]
     },
     "execution_count": 18,
     "metadata": {},
     "output_type": "execute_result"
    }
   ],
   "source": [
    "denemeset"
   ]
  },
  {
   "cell_type": "code",
   "execution_count": 23,
   "id": "44fbcd05-a608-4475-9eee-447d57e51726",
   "metadata": {},
   "outputs": [
    {
     "name": "stdin",
     "output_type": "stream",
     "text": [
      "bir değer giriniz: 15\n",
      "bir değer giriniz: 14\n"
     ]
    },
    {
     "data": {
      "text/plain": [
       "{1, 2, 4, 14, 15}"
      ]
     },
     "execution_count": 23,
     "metadata": {},
     "output_type": "execute_result"
    }
   ],
   "source": [
    "deger1 = int(input(\"bir değer giriniz:\"))\n",
    "deger2 = int(input(\"bir değer giriniz:\"))\n",
    "denemeset.update([deger1])\n",
    "denemeset.update([deger2])\n",
    "denemeset"
   ]
  },
  {
   "cell_type": "markdown",
   "id": "5378d3d7-d193-456d-85b4-57b037074278",
   "metadata": {},
   "source": [
    "## tuple"
   ]
  },
  {
   "cell_type": "code",
   "execution_count": 30,
   "id": "83cc3612-9103-4431-8627-a1bdc446490d",
   "metadata": {},
   "outputs": [
    {
     "data": {
      "text/plain": [
       "tuple"
      ]
     },
     "execution_count": 30,
     "metadata": {},
     "output_type": "execute_result"
    }
   ],
   "source": [
    "degerler=(0,1,2,3,4,5,6,6,6)\n",
    "type(degerler)\n"
   ]
  },
  {
   "cell_type": "code",
   "execution_count": 31,
   "id": "c7a1eed9-740e-4bf4-b9b8-508e2ff2bedd",
   "metadata": {},
   "outputs": [
    {
     "data": {
      "text/plain": [
       "(0, 1, 2, 3, 4, 5, 6, 6, 6)"
      ]
     },
     "execution_count": 31,
     "metadata": {},
     "output_type": "execute_result"
    }
   ],
   "source": [
    "degerler"
   ]
  },
  {
   "cell_type": "code",
   "execution_count": 32,
   "id": "a1b916f2-64ca-454f-9c5b-5e4439685f1d",
   "metadata": {},
   "outputs": [
    {
     "name": "stdout",
     "output_type": "stream",
     "text": [
      "(2, 3)\n"
     ]
    }
   ],
   "source": [
    "degerler1=degerler[2:4]\n",
    "print(degerler1)"
   ]
  },
  {
   "cell_type": "code",
   "execution_count": 33,
   "id": "5326991a-6f63-4ba5-a280-d1c344295b59",
   "metadata": {},
   "outputs": [
    {
     "data": {
      "text/plain": [
       "5"
      ]
     },
     "execution_count": 33,
     "metadata": {},
     "output_type": "execute_result"
    }
   ],
   "source": [
    "degerler[5]"
   ]
  },
  {
   "cell_type": "code",
   "execution_count": 35,
   "id": "1bffab40-7675-40a8-afe1-521e87e363bf",
   "metadata": {},
   "outputs": [
    {
     "data": {
      "text/plain": [
       "3"
      ]
     },
     "execution_count": 35,
     "metadata": {},
     "output_type": "execute_result"
    }
   ],
   "source": [
    "degerler.count(6)"
   ]
  },
  {
   "cell_type": "code",
   "execution_count": null,
   "id": "ed223f66-fdd0-4dbb-a31d-2269c9ddce43",
   "metadata": {},
   "outputs": [],
   "source": []
  }
 ],
 "metadata": {
  "kernelspec": {
   "display_name": "Python 3 (ipykernel)",
   "language": "python",
   "name": "python3"
  },
  "language_info": {
   "codemirror_mode": {
    "name": "ipython",
    "version": 3
   },
   "file_extension": ".py",
   "mimetype": "text/x-python",
   "name": "python",
   "nbconvert_exporter": "python",
   "pygments_lexer": "ipython3",
   "version": "3.11.7"
  }
 },
 "nbformat": 4,
 "nbformat_minor": 5
}
