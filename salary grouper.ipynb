{
 "cells": [
  {
   "cell_type": "code",
   "execution_count": 19,
   "id": "de030d9e-4297-4b18-a92d-633d0d42e744",
   "metadata": {},
   "outputs": [
    {
     "name": "stdin",
     "output_type": "stream",
     "text": [
      "maasınızı giriniz= 100000\n"
     ]
    },
    {
     "name": "stdout",
     "output_type": "stream",
     "text": [
      "yüksek gelir grubundasınız\n",
      "vergi miktarı: 30000.0\n",
      "net gelir: 70000.0\n",
      "vergi sonrası geliriniz oldukça iyi durumda.\n",
      "net gelirinizle lüks bir yaşam sürebilirsiniz.\n"
     ]
    }
   ],
   "source": [
    "maas =int(input(\"maasınızı giriniz=\"))\n",
    "if maas <=0:\n",
    "    print(\"maas sıfırdan büyük olmalıdır\")\n",
    "if maas <20000:\n",
    "    print(\"düşük gelir grubundasınız\")\n",
    "    vergi_orani = 0.10\n",
    "    vergi_miktari = maas * vergi_orani\n",
    "    net_gelir = maas - vergi_miktari\n",
    "    print(\"vergi miktarı:\" ,vergi_miktari)\n",
    "    print(\"net gelir:\",net_gelir)\n",
    "elif maas <60000:\n",
    "    print(\"orta gelir grubundasınız\")\n",
    "    vergi_orani =0.20\n",
    "    vergi_miktari = maas * vergi_orani\n",
    "    net_gelir = maas - vergi_miktari\n",
    "    print(\"vergi miktarı:\" ,vergi_miktari)\n",
    "    print(\"net gelir:\",net_gelir)\n",
    "elif maas <120000:\n",
    "    print(\"yüksek gelir grubundasınız\")\n",
    "    vergi_orani = 0.30\n",
    "    vergi_miktari = maas * vergi_orani\n",
    "    net_gelir = maas - vergi_miktari\n",
    "    print(\"vergi miktarı:\" ,vergi_miktari)\n",
    "    print(\"net gelir:\",net_gelir)\n",
    "if net_gelir >=50000 :\n",
    "    print(\"vergi sonrası geliriniz oldukça iyi durumda.\")\n",
    "if net_gelir >=70000:\n",
    "    print(\"net gelirinizle lüks bir yaşam sürebilirsiniz.\")\n",
    "elif net_gelir <=70000:\n",
    "    print(\"net gelirinizle rahat bir yaşam sürebilirsiniz.\")\n",
    "elif net_gelir <=50000:\n",
    "    print(\"vergi sonrası dikkatli harcama yapmalısınız.\")\n",
    "    \n",
    "    "
   ]
  },
  {
   "cell_type": "markdown",
   "id": "6af97e77-b3e6-4a25-a0d6-873fc6b57574",
   "metadata": {},
   "source": []
  }
 ],
 "metadata": {
  "kernelspec": {
   "display_name": "Python 3 (ipykernel)",
   "language": "python",
   "name": "python3"
  },
  "language_info": {
   "codemirror_mode": {
    "name": "ipython",
    "version": 3
   },
   "file_extension": ".py",
   "mimetype": "text/x-python",
   "name": "python",
   "nbconvert_exporter": "python",
   "pygments_lexer": "ipython3",
   "version": "3.11.4"
  }
 },
 "nbformat": 4,
 "nbformat_minor": 5
}
