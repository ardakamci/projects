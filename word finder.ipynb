{
 "cells": [
  {
   "cell_type": "code",
   "execution_count": 33,
   "id": "c6a95598-9dbb-4edd-ba9d-2172c318f72d",
   "metadata": {},
   "outputs": [],
   "source": [
    "import csv"
   ]
  },
  {
   "cell_type": "code",
   "execution_count": 44,
   "id": "f851ac38-893e-47f3-a89e-6f5e36655a32",
   "metadata": {},
   "outputs": [
    {
     "name": "stdout",
     "output_type": "stream",
     "text": [
      "Bu birinci satır.\n",
      "Bu ikinci satır.\n",
      "Bu üçüncü satır.\n",
      "Bu dördüncü satır.\n",
      "Bu beşinci satır.\n",
      "Bu altıncı satır.\n",
      "Bu yedinci satır.\n",
      "Bu sekizinci satır.\n",
      "Bu dokuzuncu satır.\n",
      "Bu onuncu satır.\n",
      "\n",
      "['Bu birinci satır.', 'Bu ikinci satır.', 'Bu üçüncü satır.', 'Bu dördüncü satır.', 'Bu beşinci satır.', 'Bu altıncı satır.', 'Bu yedinci satır.', 'Bu sekizinci satır.', 'Bu dokuzuncu satır.', 'Bu onuncu satır.']\n"
     ]
    },
    {
     "name": "stdin",
     "output_type": "stream",
     "text": [
      "Lütfen aramak istediğiniz kelimeyi girin:  satır\n"
     ]
    },
    {
     "name": "stdout",
     "output_type": "stream",
     "text": [
      "'satır' kelimesi dosyada 10 kez geçiyor.\n",
      "1: Bu birinci satır.\n",
      "2: Bu ikinci satır.\n",
      "3: Bu üçüncü satır.\n",
      "4: Bu dördüncü satır.\n",
      "5: Bu beşinci satır.\n",
      "6: Bu altıncı satır.\n",
      "7: Bu yedinci satır.\n",
      "8: Bu sekizinci satır.\n",
      "9: Bu dokuzuncu satır.\n",
      "10: Bu onuncu satır.\n",
      "\n"
     ]
    }
   ],
   "source": [
    "with open('metin.txt', 'w') as dosya:                          #- GÖREV 1 BURADAN BAŞLIYOR\n",
    "    dosya.write(\"Bu birinci satır.\\n\")\n",
    "    dosya.write(\"Bu ikinci satır.\\n\")\n",
    "    dosya.write(\"Bu üçüncü satır.\\n\")\n",
    "    dosya.write(\"Bu dördüncü satır.\\n\")\n",
    "    dosya.write(\"Bu beşinci satır.\\n\")                                 #BASİT DOSYA OKUMA\n",
    "    dosya.write(\"Bu altıncı satır.\\n\")\n",
    "    dosya.write(\"Bu yedinci satır.\\n\")\n",
    "    dosya.write(\"Bu sekizinci satır.\\n\")\n",
    "    dosya.write(\"Bu dokuzuncu satır.\\n\")\n",
    "    dosya.write(\"Bu onuncu satır.\\n\")\n",
    "\n",
    "with open('metin.txt', 'r') as dosya:\n",
    "    icerik = dosya.read()\n",
    "    print(icerik)                                              #- GÖREV 1 BURADA BİTİYOR\n",
    "\n",
    "satirlar = []                                                  #- GÖREV 2 BURADA BAŞLIYOR\n",
    "with open('metin.txt', 'r') as dosya:\n",
    "    for satir in dosya:\n",
    "        temiz_satir = satir.strip()                                 #SATIR SATIR DOSYA OKUMA\n",
    "        satirlar.append(temiz_satir)\n",
    "\n",
    "\n",
    "print(satirlar)                                                #- GÖREV 2 BURADA BİTİYOR\n",
    "\n",
    "kelime = input(\"Lütfen aramak istediğiniz kelimeyi girin: \")   #- GÖREV 3 BURADA BAŞLIYOR\n",
    "kelime_sayisi = 0\n",
    "with open('metin.txt', 'r') as dosya:\n",
    "    for satir in dosya:                                              #DOSYADA KELİME ARAMA\n",
    "        kelime_sayisi += satir.count(kelime)\n",
    "\n",
    "print(f\"'{kelime}' kelimesi dosyada {kelime_sayisi} kez geçiyor.\") #- GÖREV 3 BURADA BİTİYOR\n",
    "\n",
    "with open('output.txt', 'w') as yeni_dosya:                         #- GÖREV 4 BURADA BAŞLIYOR\n",
    "    for i, satir in enumerate(satirlar, start=1):  \n",
    "        yeni_dosya.write(f\"{i}: {satir}\\n\")\n",
    "                                                                          #DOSYA ÜZERİNDEN İŞLEM YAPMA\n",
    "with open('output.txt', 'r') as yeni_dosya:\n",
    "    yeni_icerik = yeni_dosya.read()\n",
    "    print(yeni_icerik)                                              #- GÖREV 4 BURADA BİTİYOR"
   ]
  },
  {
   "cell_type": "code",
   "execution_count": null,
   "id": "f4979b21-ab28-45a5-9f5a-28ccd235c6a2",
   "metadata": {},
   "outputs": [],
   "source": []
  },
  {
   "cell_type": "code",
   "execution_count": null,
   "id": "8f306cbf-4833-4a93-ba2e-a39ca4a13cb6",
   "metadata": {},
   "outputs": [],
   "source": []
  },
  {
   "cell_type": "code",
   "execution_count": null,
   "id": "6a2ea114-a03f-4141-a601-2a6e2447c982",
   "metadata": {},
   "outputs": [],
   "source": []
  },
  {
   "cell_type": "code",
   "execution_count": null,
   "id": "2023d602-6949-4bda-af1a-9a44fac2e3d2",
   "metadata": {},
   "outputs": [],
   "source": []
  }
 ],
 "metadata": {
  "kernelspec": {
   "display_name": "Python 3 (ipykernel)",
   "language": "python",
   "name": "python3"
  },
  "language_info": {
   "codemirror_mode": {
    "name": "ipython",
    "version": 3
   },
   "file_extension": ".py",
   "mimetype": "text/x-python",
   "name": "python",
   "nbconvert_exporter": "python",
   "pygments_lexer": "ipython3",
   "version": "3.11.7"
  }
 },
 "nbformat": 4,
 "nbformat_minor": 5
}
