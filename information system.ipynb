{
 "cells": [
  {
   "cell_type": "code",
   "execution_count": 3,
   "id": "7a65660e-6ba5-473f-ada3-b844428622f5",
   "metadata": {
    "tags": []
   },
   "outputs": [
    {
     "name": "stdout",
     "output_type": "stream",
     "text": [
      "\n",
      "Ana Menü:\n",
      "1. Bilgi Ekle\n",
      "2. Bilgi Güncelle\n",
      "3. Bilgi Sil\n",
      "4. Bilgi Görüntüle\n",
      "5. Çıkış\n"
     ]
    },
    {
     "name": "stdin",
     "output_type": "stream",
     "text": [
      "Seçiminizi yapın (1/2/3/4/5):  5\n"
     ]
    },
    {
     "name": "stdout",
     "output_type": "stream",
     "text": [
      "Çıkılıyor...\n"
     ]
    }
   ],
   "source": [
    "kisi_bilgileri = {}\n",
    "\n",
    "def bilgi_ekle():\n",
    "    isim = input(\"Adınızı girin: \")\n",
    "    soyad = input(\"Soyadınızı girin: \")\n",
    "    yas = input(\"Yaşınızı girin: \")\n",
    "    e_posta = input(\"E-posta adresinizi girin: \")\n",
    "    telefon = input(\"Telefon numaranızı girin: \")\n",
    "\n",
    "    kisi_bilgileri[isim] = {\n",
    "        'Soyad': soyad,\n",
    "        'Yaş': yas,\n",
    "        'E-posta': e_posta,\n",
    "        'Telefon': telefon\n",
    "    }\n",
    "    print(f\"{isim} için bilgiler eklendi.\")\n",
    "\n",
    "def bilgi_guncelle():\n",
    "    isim = input(\"Güncellemek istediğiniz kişinin adını girin: \")\n",
    "    if isim in kisi_bilgileri:\n",
    "        print(\"Güncellemek istediğiniz bilgiyi seçin: \")\n",
    "        print(\"1. Soyad\")\n",
    "        print(\"2. Yaş\")\n",
    "        print(\"3. E-posta\")\n",
    "        print(\"4. Telefon\")\n",
    "        \n",
    "        secim = input(\"Seçiminizi yapın (1/2/3/4): \")\n",
    "        if secim == '1':\n",
    "            yeni_soyad = input(\"Yeni soyadınızı girin: \")\n",
    "            kisi_bilgileri[isim]['Soyad'] = yeni_soyad\n",
    "        elif secim == '2':\n",
    "            yeni_yas = input(\"Yeni yaşınızı girin: \")\n",
    "            kisi_bilgileri[isim]['Yaş'] = yeni_yas\n",
    "        elif secim == '3':\n",
    "            yeni_e_posta = input(\"Yeni e-posta adresinizi girin: \")\n",
    "            kisi_bilgileri[isim]['E-posta'] = yeni_e_posta\n",
    "        elif secim == '4':\n",
    "            yeni_telefon = input(\"Yeni telefon numaranızı girin: \")\n",
    "            kisi_bilgileri[isim]['Telefon'] = yeni_telefon\n",
    "        else:\n",
    "            print(\"Geçersiz seçim.\")\n",
    "        print(f\"{isim} için bilgiler güncellendi.\")\n",
    "    else:\n",
    "        print(f\"{isim} bulunamadı.\")\n",
    "\n",
    "def bilgi_sil():\n",
    "    isim = input(\"Silmek istediğiniz kişinin adını girin: \")\n",
    "    if isim in kisi_bilgileri:\n",
    "        del kisi_bilgileri[isim]\n",
    "        print(f\"{isim} için bilgiler silindi.\")\n",
    "    else:\n",
    "        print(f\"{isim} bulunamadı.\")\n",
    "\n",
    "def bilgi_goruntule():\n",
    "    print(\"Bilgileri görüntülemek için:\")\n",
    "    print(\"1. Tüm bilgileri görüntüle\")\n",
    "    print(\"2. Belirli bir kişinin bilgilerini görüntüle\")\n",
    "    \n",
    "    secim = input(\"Seçiminizi yapın (1/2): \")\n",
    "    if secim == '1':\n",
    "        for isim, bilgiler in kisi_bilgileri.items():\n",
    "            print(f\"Ad: {isim}\")\n",
    "            for anahtar, deger in bilgiler.items():\n",
    "                print(f\"{anahtar}: {deger}\")\n",
    "            print()\n",
    "    elif secim == '2':\n",
    "        isim = input(\"Bilgilerini görüntülemek istediğiniz kişinin adını girin: \")\n",
    "        if isim in kisi_bilgileri:\n",
    "            bilgiler = kisi_bilgileri[isim]\n",
    "            print(f\"Ad: {isim}\")\n",
    "            for anahtar, deger in bilgiler.items():\n",
    "                print(f\"{anahtar}: {deger}\")\n",
    "        else:\n",
    "            print(f\"{isim} bulunamadı.\")\n",
    "    else:\n",
    "        print(\"Geçersiz seçim.\")\n",
    "def ana_menu():\n",
    "    while True:\n",
    "        print(\"\\nAna Menü:\")\n",
    "        print(\"1. Bilgi Ekle\")\n",
    "        print(\"2. Bilgi Güncelle\")\n",
    "        print(\"3. Bilgi Sil\")\n",
    "        print(\"4. Bilgi Görüntüle\")\n",
    "        print(\"5. Çıkış\")\n",
    "        \n",
    "        secim = input(\"Seçiminizi yapın (1/2/3/4/5): \")\n",
    "        \n",
    "        if secim == '1':\n",
    "            bilgi_ekle()\n",
    "        elif secim == '2':\n",
    "            bilgi_guncelle()\n",
    "        elif secim == '3':\n",
    "            bilgi_sil()\n",
    "        elif secim == '4':\n",
    "            bilgi_goruntule()\n",
    "        elif secim == '5':\n",
    "            print(\"Çıkılıyor...\")\n",
    "            break\n",
    "        else:\n",
    "            print(\"Geçersiz seçim, lütfen tekrar deneyin.\")\n",
    "\n",
    "# Ana menüyü başlat\n",
    "ana_menu()\n"
   ]
  },
  {
   "cell_type": "code",
   "execution_count": null,
   "id": "27764be3-60b0-48f5-bd39-937cdcae0f3d",
   "metadata": {},
   "outputs": [],
   "source": []
  }
 ],
 "metadata": {
  "kernelspec": {
   "display_name": "Python 3 (ipykernel)",
   "language": "python",
   "name": "python3"
  },
  "language_info": {
   "codemirror_mode": {
    "name": "ipython",
    "version": 3
   },
   "file_extension": ".py",
   "mimetype": "text/x-python",
   "name": "python",
   "nbconvert_exporter": "python",
   "pygments_lexer": "ipython3",
   "version": "3.11.4"
  }
 },
 "nbformat": 4,
 "nbformat_minor": 5
}
